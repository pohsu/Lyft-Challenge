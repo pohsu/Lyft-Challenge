{
 "cells": [
  {
   "cell_type": "markdown",
   "metadata": {},
   "source": [
    "## model_1_1"
   ]
  },
  {
   "cell_type": "markdown",
   "metadata": {},
   "source": [
    "0.1 0.85\n",
    "\n",
    "Your program runs at 7.352 FPS\n",
    "\n",
    "Car F score: 0.793 | Car Precision: 0.570 | Car Recall: 0.878 | Road F score: 0.982 | Road Precision: 0.990 | Road Recall: 0.952 | Averaged F score: 0.887"
   ]
  },
  {
   "cell_type": "markdown",
   "metadata": {},
   "source": [
    "0.2 0.85\n",
    "\n",
    "Your program runs at 7.462 FPS\n",
    "\n",
    "Car F score: 0.802 | Car Precision: 0.622 | Car Recall: 0.865 | Road F score: 0.982 | Road Precision: 0.990 | Road Recall: 0.952 | Averaged F score: 0.892"
   ]
  },
  {
   "cell_type": "markdown",
   "metadata": {},
   "source": [
    "0.3 0.85\n",
    "\n",
    "Your program runs at 7.407 FPS\n",
    "\n",
    "Car F score: 0.805 | Car Precision: 0.653 | Car Recall: 0.855 | Road F score: 0.982 | Road Precision: 0.990 | Road Recall: 0.952 | Averaged F score: 0.894"
   ]
  },
  {
   "cell_type": "markdown",
   "metadata": {},
   "source": [
    "0.4 0.85\n",
    "\n",
    "Your program runs at 7.352 FPS\n",
    "\n",
    "Car F score: 0.806 | Car Precision: 0.677 | Car Recall: 0.846 | Road F score: 0.982 | Road Precision: 0.990 | Road Recall: 0.952 | Averaged F score: 0.894"
   ]
  },
  {
   "cell_type": "markdown",
   "metadata": {},
   "source": [
    "0.4 0.95\n",
    "\n",
    "Your program runs at 7.352 FPS\n",
    "\n",
    "Car F score: 0.806 | Car Precision: 0.677 | Car Recall: 0.846 | Road F score: 0.982 | Road Precision: 0.992 | Road Recall: 0.942 | Averaged F score: 0.894"
   ]
  },
  {
   "cell_type": "markdown",
   "metadata": {},
   "source": [
    "### pb"
   ]
  },
  {
   "cell_type": "markdown",
   "metadata": {},
   "source": [
    "0.5 0.9\n",
    "\n",
    "Your program runs at 8.000 FPS\n",
    "\n",
    "Car F score: 0.799 | Car Precision: 0.731 | Car Recall: 0.818 | Road F score: 0.982 | Road Precision: 0.991 | Road Recall: 0.948 | Averaged F score: 0.891"
   ]
  },
  {
   "cell_type": "markdown",
   "metadata": {},
   "source": [
    "## Model 3_1"
   ]
  },
  {
   "cell_type": "markdown",
   "metadata": {},
   "source": [
    "0.5 0.85\n",
    "\n",
    "Your program runs at 7.936 FPS\n",
    "\n",
    "Car F score: 0.789 | Car Precision: 0.646 | Car Recall: 0.836 | Road F score: 0.981 | Road Precision: 0.990 | Road Recall: 0.946 | Averaged F score: 0.885"
   ]
  },
  {
   "cell_type": "markdown",
   "metadata": {},
   "source": [
    "## Model 4_2_1 (not saved)"
   ]
  },
  {
   "cell_type": "markdown",
   "metadata": {},
   "source": [
    "Your program runs at 11.235 FPS\n",
    "\n",
    "0.45 0.95\n",
    "\n",
    "Car F score: 0.805 | Car Precision: 0.651 | Car Recall: 0.856 | Road F score: 0.981 | Road Precision: 0.990 | Road Recall: 0.944 | Averaged F score: 0.893\n"
   ]
  },
  {
   "cell_type": "markdown",
   "metadata": {},
   "source": [
    "Your program runs at 10.752 FPS\n",
    "\n",
    "0.35 0.9\n",
    "\n",
    "Car F score: 0.803 | Car Precision: 0.626 | Car Recall: 0.865 | Road F score: 0.980 | Road Precision: 0.991 | Road Recall: 0.940 | Averaged F score: 0.892"
   ]
  },
  {
   "cell_type": "markdown",
   "metadata": {},
   "source": [
    "## Model 4_2_1 (refined)"
   ]
  },
  {
   "cell_type": "markdown",
   "metadata": {},
   "source": [
    "0.45 0.9\n",
    "\n",
    "Your program runs at 10.204 FPS\n",
    "\n",
    "Car F score: 0.790 | Car Precision: 0.596 | Car Recall: 0.861 | Road F score: 0.982 | Road Precision: 0.990 | Road Recall: 0.949 | Averaged F score: 0.886"
   ]
  },
  {
   "cell_type": "markdown",
   "metadata": {},
   "source": [
    "0.55 0.8\n",
    "\n",
    "Your program runs at 10.638 FPS\n",
    "\n",
    "Car F score: 0.792 | Car Precision: 0.618 | Car Recall: 0.852 | Road F score: 0.981 | Road Precision: 0.989 | Road Recall: 0.953 | Averaged F score: 0.887"
   ]
  },
  {
   "cell_type": "markdown",
   "metadata": {},
   "source": [
    "## Model 4_3_1"
   ]
  },
  {
   "cell_type": "markdown",
   "metadata": {},
   "source": [
    "0.45 0.95\n",
    "\n",
    "Your program runs at 10.204 FPS\n",
    "\n",
    "Car F score: 0.795 | Car Precision: 0.725 | Car Recall: 0.815 | Road F score: 0.977 | Road Precision: 0.993 | Road Recall: 0.918 | Averaged F score: 0.886"
   ]
  },
  {
   "cell_type": "markdown",
   "metadata": {},
   "source": [
    "0.3 0.9\n",
    "\n",
    "Your program runs at 10.989 FPS\n",
    "\n",
    "Car F score: 0.801 | Car Precision: 0.694 | Car Recall: 0.832 | Road F score: 0.978 | Road Precision: 0.992 | Road Recall: 0.929 | Averaged F score: 0.890"
   ]
  },
  {
   "cell_type": "markdown",
   "metadata": {},
   "source": [
    "0.2 0.75\n",
    "\n"
   ]
  },
  {
   "cell_type": "markdown",
   "metadata": {},
   "source": [
    "Your program runs at 10.869 FPS\n",
    "\n",
    "Car F score: 0.802 | Car Precision: 0.667 | Car Recall: 0.846 | Road F score: 0.980 | Road Precision: 0.990 | Road Recall: 0.941 | Averaged F score: 0.891"
   ]
  },
  {
   "cell_type": "markdown",
   "metadata": {},
   "source": [
    "0.1 0.7\n",
    "\n",
    "Your program runs at 11.111 FPS\n",
    "\n",
    "Car F score: 0.800 | Car Precision: 0.620 | Car Recall: 0.863 | Road F score: 0.980 | Road Precision: 0.989 | Road Recall: 0.943 | Averaged F score: 0.890"
   ]
  },
  {
   "cell_type": "markdown",
   "metadata": {},
   "source": [
    "0.15 0.85\n",
    "\n",
    "Your program runs at 10.638 FPS\n",
    "\n",
    "Car F score: 0.802 | Car Precision: 0.647 | Car Recall: 0.853 | Road F score: 0.979 | Road Precision: 0.991 | Road Recall: 0.935 | Averaged F score: 0.891"
   ]
  },
  {
   "cell_type": "markdown",
   "metadata": {},
   "source": [
    "## Model 5_3_1"
   ]
  },
  {
   "cell_type": "markdown",
   "metadata": {},
   "source": [
    "0.15 0.85\n",
    "\n",
    "Your program runs at 10.204 FPS\n",
    "\n",
    "Car F score: 0.768 | Car Precision: 0.610 | Car Recall: 0.821 | Road F score: 0.978 | Road Precision: 0.992 | Road Recall: 0.925 | Averaged F score: 0.873"
   ]
  },
  {
   "cell_type": "markdown",
   "metadata": {},
   "source": [
    "0.18 0.65 batch = 30\n",
    "\n",
    "Your program runs at 10.309 FPS\n",
    "\n",
    "Car F score: 0.767 | Car Precision: 0.621 | Car Recall: 0.814 | Road F score: 0.979 | Road Precision: 0.991 | Road Recall: 0.935 | Averaged F score: 0.873"
   ]
  },
  {
   "cell_type": "markdown",
   "metadata": {},
   "source": [
    "## Model 5_1_1"
   ]
  },
  {
   "cell_type": "markdown",
   "metadata": {},
   "source": [
    "0.15 0.18\n",
    "\n",
    "Your program runs at 9.708 FPS\n",
    "\n",
    "Car F score: 0.735 | Car Precision: 0.504 | Car Recall: 0.829 | Road F score: 0.958 | Road Precision: 0.995 | Road Recall: 0.836 | Averaged F score: 0.846"
   ]
  },
  {
   "cell_type": "markdown",
   "metadata": {},
   "source": [
    "## Model 6_2_1 [0.1, 2.5, 0.4]"
   ]
  },
  {
   "cell_type": "markdown",
   "metadata": {},
   "source": [
    "0.15 0.85\n",
    "\n",
    "Your program runs at 9.615 FPS\n",
    "\n",
    "Car F score: 0.800 | Car Precision: 0.584 | Car Recall: 0.881 | Road F score: 0.982 | Road Precision: 0.991 | Road Recall: 0.947 | Averaged F score: 0.891"
   ]
  },
  {
   "cell_type": "markdown",
   "metadata": {},
   "source": [
    "0.3 0.7\n",
    "\n",
    "Your program runs at 10.101 FPS\n",
    "\n",
    "Car F score: 0.806 | Car Precision: 0.632 | Car Recall: 0.866 | Road F score: 0.981 | Road Precision: 0.989 | Road Recall: 0.952 | Averaged F score: 0.894"
   ]
  },
  {
   "cell_type": "markdown",
   "metadata": {},
   "source": [
    "0.4 0.8\n",
    "\n",
    "Your program runs at 10.101 FPS\n",
    "\n",
    "Car F score: 0.808 | Car Precision: 0.655 | Car Recall: 0.858 | Road F score: 0.982 | Road Precision: 0.990 | Road Recall: 0.949 | Averaged F score: 0.895"
   ]
  },
  {
   "cell_type": "markdown",
   "metadata": {},
   "source": [
    "0.5 0.8\n",
    "\n",
    "Your program runs at 10.204 FPS\n",
    "\n",
    "Car F score: 0.807 | Car Precision: 0.674 | Car Recall: 0.849 | Road F score: 0.982 | Road Precision: 0.990 | Road Recall: 0.949 | Averaged F score: 0.894"
   ]
  },
  {
   "cell_type": "markdown",
   "metadata": {},
   "source": [
    "## Model 6_4_1 [0.1, 2.7, 0.2]"
   ]
  },
  {
   "cell_type": "markdown",
   "metadata": {},
   "source": [
    "0.5 0.8\n",
    "\n",
    "Your program runs at 9.615 FPS\n",
    "\n",
    "Car F score: 0.816 | Car Precision: 0.697 | Car Recall: 0.853 | Road F score: 0.982 | Road Precision: 0.990 | Road Recall: 0.953 | Averaged F score: 0.899"
   ]
  },
  {
   "cell_type": "markdown",
   "metadata": {},
   "source": [
    "0.4 0.85\n",
    "\n",
    "Your program runs at 10.204 FPS\n",
    "\n",
    "Car F score: 0.816 | Car Precision: 0.678 | Car Recall: 0.860 | Road F score: 0.982 | Road Precision: 0.991 | Road Recall: 0.951 | Averaged F score: 0.899"
   ]
  },
  {
   "cell_type": "markdown",
   "metadata": {},
   "source": [
    "0.3 0.88\n",
    "\n",
    "Your program runs at 10.101 FPS\n",
    "\n",
    "Car F score: 0.815 | Car Precision: 0.656 | Car Recall: 0.867 | Road F score: 0.982 | Road Precision: 0.991 | Road Recall: 0.948 | Averaged F score: 0.899"
   ]
  },
  {
   "cell_type": "markdown",
   "metadata": {},
   "source": [
    "0.6 0.9\n",
    "\n",
    "Your program runs at 10.204 FPS\n",
    "\n",
    "Car F score: 0.816 | Car Precision: 0.715 | Car Recall: 0.845 | Road F score: 0.982 | Road Precision: 0.991 | Road Recall: 0.948 | Averaged F score: 0.899"
   ]
  },
  {
   "cell_type": "markdown",
   "metadata": {},
   "source": [
    "## Model 6_5_1 [0.1, 2.7, 0.2] fine tuned"
   ]
  },
  {
   "cell_type": "markdown",
   "metadata": {},
   "source": [
    "0.4 0.85\n",
    "\n",
    "Your program runs at 9.803 FPS\n",
    "\n",
    "Car F score: 0.815 | Car Precision: 0.706 | Car Recall: 0.848 | Road F score: 0.983 | Road Precision: 0.991 | Road Recall: 0.950 | Averaged F score: 0.899"
   ]
  },
  {
   "cell_type": "markdown",
   "metadata": {},
   "source": [
    "0.3 0.85 \n",
    "\n",
    "Your program runs at 10.309 FPS\n",
    "\n",
    "Car F score: 0.816 | Car Precision: 0.687 | Car Recall: 0.857 | Road F score: 0.983 | Road Precision: 0.991 | Road Recall: 0.950 | Averaged F score: 0.899"
   ]
  },
  {
   "cell_type": "markdown",
   "metadata": {},
   "source": [
    "0.25 0.85\n",
    "\n",
    "Your program runs at 10.416 FPS\n",
    "\n",
    "Car F score: 0.816 | Car Precision: 0.675 | Car Recall: 0.861 | Road F score: 0.983 | Road Precision: 0.991 | Road Recall: 0.950 | Averaged F score: 0.899"
   ]
  },
  {
   "cell_type": "markdown",
   "metadata": {},
   "source": [
    "0.1 0.85 \n",
    "\n",
    "Your program runs at 10.204 FPS\n",
    "\n",
    "Car F score: 0.811 | Car Precision: 0.619 | Car Recall: 0.879 | Road F score: 0.983 | Road Precision: 0.991 | Road Recall: 0.950 | Averaged F score: 0.897"
   ]
  },
  {
   "cell_type": "code",
   "execution_count": null,
   "metadata": {},
   "outputs": [],
   "source": [
    "import sys, skvideo.io, json, base64\n",
    "import numpy as np\n",
    "from PIL import Image\n",
    "from io import BytesIO, StringIO\n",
    "import tensorflow as tf\n",
    "file = sys.argv[-1]\n",
    "\n",
    "load_build_path = 'optimized_graph.pb'\n",
    "\n",
    "if file == 'demo.py':\n",
    "  print (\"Error loading video\")\n",
    "  quit\n",
    "\n",
    "    # Define encoder function\n",
    "def encode(array):\n",
    "\tpil_img = Image.fromarray(array)\n",
    "\tbuff = BytesIO()\n",
    "\tpil_img.save(buff, format=\"PNG\")\n",
    "\treturn base64.b64encode(buff.getvalue()).decode(\"utf-8\")\n",
    "\n",
    "video = skvideo.io.vread(file)\n",
    "\n",
    "# Frame numbering starts at 1\n",
    "tf.reset_default_graph()\n",
    "with tf.Session(graph=tf.Graph()) as sess:\n",
    "    gd = tf.GraphDef()\n",
    "    with tf.gfile.Open(load_build_path, 'rb') as f:\n",
    "        data = f.read()\n",
    "        gd.ParseFromString(data)\n",
    "    tf.import_graph_def(gd, name='')\n",
    "    graph = tf.get_default_graph()\n",
    "    input_image = graph.get_tensor_by_name('input_image:0')\n",
    "    softmax = graph.get_tensor_by_name('softmax:0')\n",
    "    answer_key = {}\n",
    "    frame = 1\n",
    "    crop_up = 0\n",
    "    crop_down = 512\n",
    "    image_shape = [600,800,3]\n",
    "    for rgb_frame in video:\n",
    "        crop_frame = rgb_frame[crop_up:crop_down,:,:]\n",
    "        crop_frame = np.expand_dims(crop_frame,0)\n",
    "        out = sess.run(softmax, feed_dict={input_image: crop_frame})[0]\n",
    "        # Look for red cars :)\n",
    "        binary_car_result = np.where(out[:,:,1]>0.3,1,0)\n",
    "#         binary_car_result = np.concatenate((np.zeros([crop_up,image_shape[1]]),binary_car_result), axis=0)\n",
    "        binary_car_result = np.concatenate((binary_car_result, np.zeros([image_shape[0]-crop_down,image_shape[1]])), axis=0)\n",
    "        binary_car_result[0:250,:] = 0\n",
    "        # Look for road :)\n",
    "        binary_road_result = np.where(out[:,:,2]>0.85,1,0)\n",
    "#         binary_road_result = np.concatenate((np.zeros([crop_up,image_shape[1]]),binary_road_result), axis=0)\n",
    "        binary_road_result = np.concatenate((binary_road_result, np.zeros([image_shape[0]-crop_down,image_shape[1]])), axis=0)\n",
    "        binary_road_result[0:250,:] = 0\n",
    "        answer_key[frame] = [encode(binary_car_result.astype('uint8')), encode(binary_road_result.astype('uint8'))]\n",
    "        # Increment frame\n",
    "        frame+=1\n",
    "\n",
    "\n",
    "# Print output in proper json format\n",
    "print (json.dumps(answer_key))\n",
    "\n"
   ]
  },
  {
   "cell_type": "markdown",
   "metadata": {},
   "source": [
    "Your program runs at 10.204 FPS\n",
    "\n",
    "Car F score: 0.816 | Car Precision: 0.689 | Car Recall: 0.856 | Road F score: 0.983 | Road Precision: 0.991 | Road Recall: 0.950 | Averaged F score: 0.900"
   ]
  },
  {
   "cell_type": "markdown",
   "metadata": {},
   "source": [
    "## Model 8_2_1 crop "
   ]
  },
  {
   "cell_type": "markdown",
   "metadata": {},
   "source": [
    "0.3 0.85\n",
    "\n",
    "Your program runs at 10.638 FPS\n",
    "\n",
    "Car F score: 0.825 | Car Precision: 0.690 | Car Recall: 0.868 | Road F score: 0.984 | Road Precision: 0.992 | Road Recall: 0.953 | Averaged F score: 0.905"
   ]
  },
  {
   "cell_type": "markdown",
   "metadata": {},
   "source": [
    "0.2 0.9 \n",
    "Your program runs at 11.111 FPS\n",
    "\n",
    "Car F score: 0.825 | Car Precision: 0.666 | Car Recall: 0.878 | Road F score: 0.983 | Road Precision: 0.992 | Road Recall: 0.950 | Averaged F score: 0.904"
   ]
  },
  {
   "cell_type": "markdown",
   "metadata": {},
   "source": [
    "## Model 9_2_1 "
   ]
  },
  {
   "cell_type": "markdown",
   "metadata": {},
   "source": [
    "0.2 0.8\n",
    "\n",
    "Your program runs at 10.204 FPS\n",
    "\n",
    "Car F score: 0.834 | Car Precision: 0.684 | Car Recall: 0.883 | Road F score: 0.988 | Road Precision: 0.991 | Road Recall: 0.973 | Averaged F score: 0.911"
   ]
  },
  {
   "cell_type": "markdown",
   "metadata": {},
   "source": [
    "## Model 11_3_1"
   ]
  },
  {
   "cell_type": "markdown",
   "metadata": {},
   "source": [
    "0.3 0.8\n",
    "\n",
    "Your program runs at 10.101 FPS\n",
    "\n",
    "Car F score: 0.848 | Car Precision: 0.702 | Car Recall: 0.894 | Road F score: 0.988 | Road Precision: 0.992 | Road Recall: 0.974 | Averaged F score: 0.918"
   ]
  },
  {
   "cell_type": "markdown",
   "metadata": {},
   "source": [
    "0.35 0.8\n",
    "\n",
    "Your program runs at 10.000 FPS\n",
    "\n",
    "Car F score: 0.849 | Car Precision: 0.715 | Car Recall: 0.890 | Road F score: 0.988 | Road Precision: 0.992 | Road Recall: 0.974 | Averaged F score: 0.918"
   ]
  },
  {
   "cell_type": "markdown",
   "metadata": {},
   "source": [
    "## Model_12_4_1"
   ]
  },
  {
   "cell_type": "markdown",
   "metadata": {},
   "source": [
    "0.4 0.8\n",
    "\n",
    "Your program runs at 10.000 FPS\n",
    "\n",
    "Car F score: 0.848 | Car Precision: 0.702 | Car Recall: 0.895 | Road F score: 0.988 | Road Precision: 0.992 | Road Recall: 0.969 | Averaged F score: 0.918"
   ]
  },
  {
   "cell_type": "markdown",
   "metadata": {},
   "source": [
    "0.5 0.9\n",
    "\n",
    "Your program runs at 10.000 FPS\n",
    "\n",
    "Car F score: 0.849 | Car Precision: 0.726 | Car Recall: 0.886 | Road F score: 0.987 | Road Precision: 0.993 | Road Recall: 0.962 | Averaged F score: 0.918"
   ]
  },
  {
   "cell_type": "markdown",
   "metadata": {},
   "source": [
    "0.5 0.75\n",
    "\n",
    "Your program runs at 10.000 FPS\n",
    "\n",
    "Car F score: 0.849 | Car Precision: 0.726 | Car Recall: 0.886 | Road F score: 0.988 | Road Precision: 0.992 | Road Recall: 0.971 | Averaged F score: 0.918"
   ]
  },
  {
   "cell_type": "markdown",
   "metadata": {},
   "source": [
    "## Model_12_6_1\n",
    "\n",
    "0.35 0.85\n",
    "\n",
    "Your program runs at 10.000 FPS\n",
    "\n",
    "Car F score: 0.850 | Car Precision: 0.694 | Car Recall: 0.900 | Road F score: 0.988 | Road Precision: 0.993 | Road Recall: 0.972 | Averaged F score: 0.919"
   ]
  },
  {
   "cell_type": "markdown",
   "metadata": {},
   "source": [
    "0.5 0.9\n",
    "\n",
    "Your program runs at 10.101 FPS\n",
    "\n",
    "Car F score: 0.852 | Car Precision: 0.730 | Car Recall: 0.889 | Road F score: 0.988 | Road Precision: 0.993 | Road Recall: 0.968 | Averaged F score: 0.920"
   ]
  },
  {
   "cell_type": "code",
   "execution_count": null,
   "metadata": {},
   "outputs": [],
   "source": []
  },
  {
   "cell_type": "code",
   "execution_count": null,
   "metadata": {},
   "outputs": [],
   "source": []
  }
 ],
 "metadata": {
  "kernelspec": {
   "display_name": "Python 3",
   "language": "python",
   "name": "python3"
  },
  "language_info": {
   "codemirror_mode": {
    "name": "ipython",
    "version": 3
   },
   "file_extension": ".py",
   "mimetype": "text/x-python",
   "name": "python",
   "nbconvert_exporter": "python",
   "pygments_lexer": "ipython3",
   "version": "3.5.2"
  },
  "widgets": {
   "state": {},
   "version": "1.1.2"
  }
 },
 "nbformat": 4,
 "nbformat_minor": 2
}
