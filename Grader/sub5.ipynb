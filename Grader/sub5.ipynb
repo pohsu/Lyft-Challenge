{
 "cells": [
  {
   "cell_type": "markdown",
   "metadata": {},
   "source": [
    "# Using model 8"
   ]
  },
  {
   "cell_type": "markdown",
   "metadata": {},
   "source": [
    "0.15 0.7\n",
    "\n",
    "Your program runs at 6.369 FPS\n",
    "\n",
    "Car F score: 0.820 | Car Precision: 0.684 | Car Recall: 0.864 | Road F score: 0.983 | Road Precision: 0.989 | Road Recall: 0.960 | Averaged F score: 0.902"
   ]
  },
  {
   "cell_type": "markdown",
   "metadata": {},
   "source": [
    "0.1 0.75\n",
    "\n",
    "Your program runs at 6.369 FPS\n",
    "\n",
    "Car F score: 0.819 | Car Precision: 0.661 | Car Recall: 0.870 | Road F score: 0.983 | Road Precision: 0.989 | Road Recall: 0.959 | Averaged F score: 0.901"
   ]
  },
  {
   "cell_type": "markdown",
   "metadata": {},
   "source": [
    "0.18 0.65\n",
    "\n",
    "Your program runs at 6.451 FPS\n",
    "\n",
    "Car F score: 0.821 | Car Precision: 0.693 | Car Recall: 0.860 | Road F score: 0.982 | Road Precision: 0.988 | Road Recall: 0.961 | Averaged F score: 0.902"
   ]
  },
  {
   "cell_type": "markdown",
   "metadata": {},
   "source": [
    "0.25 0.7\n",
    "\n",
    "Your program runs at 6.329 FPS\n",
    "\n",
    "Car F score: 0.821 | Car Precision: 0.711 | Car Recall: 0.854 | Road F score: 0.983 | Road Precision: 0.989 | Road Recall: 0.960 | Averaged F score: 0.902"
   ]
  },
  {
   "cell_type": "markdown",
   "metadata": {},
   "source": [
    "0.35 0.7\n",
    "\n",
    "Your program runs at 6.329 FPS\n",
    "\n",
    "Car F score: 0.819 | Car Precision: 0.728 | Car Recall: 0.846 | Road F score: 0.983 | Road Precision: 0.989 | Road Recall: 0.960 | Averaged F score: 0.901"
   ]
  },
  {
   "cell_type": "markdown",
   "metadata": {},
   "source": [
    "# Using model 9"
   ]
  },
  {
   "cell_type": "markdown",
   "metadata": {},
   "source": [
    "0.15 0.75\n",
    "\n",
    "Your program runs at 6.024 FPS\n",
    "\n",
    "Car F score: 0.813 | Car Precision: 0.669 | Car Recall: 0.859 | Road F score: 0.982 | Road Precision: 0.988 | Road Recall: 0.955 | Averaged F score: 0.897\n"
   ]
  },
  {
   "cell_type": "markdown",
   "metadata": {},
   "source": [
    "# Using model 10 (worse than model 7)"
   ]
  },
  {
   "cell_type": "markdown",
   "metadata": {},
   "source": [
    "0.1 0.7\n",
    "\n",
    "Your program runs at 6.535 FPS\n",
    "\n",
    "Car F score: 0.793 | Car Precision: 0.625 | Car Recall: 0.850 | Road F score: 0.982 | Road Precision: 0.990 | Road Recall: 0.950 | Averaged F score: 0.887"
   ]
  }
 ],
 "metadata": {
  "kernelspec": {
   "display_name": "Python 3",
   "language": "python",
   "name": "python3"
  },
  "language_info": {
   "codemirror_mode": {
    "name": "ipython",
    "version": 3
   },
   "file_extension": ".py",
   "mimetype": "text/x-python",
   "name": "python",
   "nbconvert_exporter": "python",
   "pygments_lexer": "ipython3",
   "version": "3.5.2"
  },
  "widgets": {
   "state": {},
   "version": "1.1.2"
  }
 },
 "nbformat": 4,
 "nbformat_minor": 2
}
