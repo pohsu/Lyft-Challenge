{
 "cells": [
  {
   "cell_type": "markdown",
   "metadata": {},
   "source": [
    "using model 5\n",
    "final 0.87"
   ]
  },
  {
   "cell_type": "code",
   "execution_count": null,
   "metadata": {},
   "outputs": [],
   "source": [
    "import sys, skvideo.io, json, base64\n",
    "import numpy as np\n",
    "from PIL import Image\n",
    "from io import BytesIO, StringIO\n",
    "import tensorflow as tf\n",
    "file = sys.argv[-1]\n",
    "\n",
    "load_model_path = 'work/model/model'\n",
    "\n",
    "if file == 'demo.py':\n",
    "  print (\"Error loading video\")\n",
    "  quit\n",
    "# Define softmax function\n",
    "def softmax(x):\n",
    "    \"\"\"Compute softmax values for each sets of scores in x.\"\"\"\n",
    "    return (np.exp(x.T) / np.sum(np.exp(x.T), axis=0)).T\n",
    "\n",
    "# Define encoder function\n",
    "def encode(array):\n",
    "\tpil_img = Image.fromarray(array)\n",
    "\tbuff = BytesIO()\n",
    "\tpil_img.save(buff, format=\"PNG\")\n",
    "\treturn base64.b64encode(buff.getvalue()).decode(\"utf-8\")\n",
    "\n",
    "video = skvideo.io.vread(file)\n",
    "\n",
    "# Frame numbering starts at 1\n",
    "tf.reset_default_graph()\n",
    "with tf.Session() as sess:\n",
    "    new_saver = tf.train.import_meta_graph(load_model_path+'.meta')\n",
    "    new_saver.restore(sess, load_model_path)\n",
    "    graph = tf.get_default_graph()\n",
    "    input_image = graph.get_tensor_by_name('input_image:0')\n",
    "    nn_last_layer = graph.get_tensor_by_name('nn_last_layer:0')\n",
    "    answer_key = {}\n",
    "    frame = 1\n",
    "    crop_up = 0\n",
    "    crop_down = 512\n",
    "    image_shape = [600,800,3]\n",
    "    for rgb_frame in video:\n",
    "        crop_frame = rgb_frame[crop_up:crop_down,:,:]\n",
    "        crop_frame = np.expand_dims(crop_frame,0)\n",
    "        out = sess.run(nn_last_layer, feed_dict={input_image: crop_frame})[0]\n",
    "        out = softmax(out)\n",
    "        # Look for red cars :)\n",
    "        binary_car_result = np.where(out[:,:,1]>0.2,1,0)\n",
    "#         binary_car_result = np.concatenate((np.zeros([crop_up,image_shape[1]]),binary_car_result), axis=0)\n",
    "        binary_car_result = np.concatenate((binary_car_result, np.zeros([image_shape[0]-crop_down,image_shape[1]])), axis=0)\n",
    "        # Look for road :)\n",
    "        binary_road_result = np.where(out[:,:,2]>0.6,1,0)\n",
    "#         binary_road_result = np.concatenate((np.zeros([crop_up,image_shape[1]]),binary_road_result), axis=0)\n",
    "        binary_road_result = np.concatenate((binary_road_result, np.zeros([image_shape[0]-crop_down,image_shape[1]])), axis=0)\n",
    "        answer_key[frame] = [encode(binary_car_result.astype('uint8')), encode(binary_road_result.astype('uint8'))]\n",
    "        # Increment frame\n",
    "        frame+=1\n",
    "\n",
    "\n",
    "# Print output in proper json format\n",
    "print (json.dumps(answer_key))\n"
   ]
  }
 ],
 "metadata": {
  "kernelspec": {
   "display_name": "Python 3",
   "language": "python",
   "name": "python3"
  },
  "language_info": {
   "codemirror_mode": {
    "name": "ipython",
    "version": 3
   },
   "file_extension": ".py",
   "mimetype": "text/x-python",
   "name": "python",
   "nbconvert_exporter": "python",
   "pygments_lexer": "ipython3",
   "version": "3.5.2"
  },
  "widgets": {
   "state": {},
   "version": "1.1.2"
  }
 },
 "nbformat": 4,
 "nbformat_minor": 2
}
