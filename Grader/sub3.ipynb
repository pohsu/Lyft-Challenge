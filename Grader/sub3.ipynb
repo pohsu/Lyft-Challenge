{
 "cells": [
  {
   "cell_type": "markdown",
   "metadata": {},
   "source": [
    "# using model6"
   ]
  },
  {
   "cell_type": "markdown",
   "metadata": {},
   "source": [
    "Leaderboard: FS 89.7055 AF 0.9109 CF0.8347 RF 0.987 FPS8.62"
   ]
  },
  {
   "cell_type": "markdown",
   "metadata": {},
   "source": [
    "## test 1"
   ]
  },
  {
   "cell_type": "code",
   "execution_count": null,
   "metadata": {},
   "outputs": [],
   "source": [
    "binary_car_result = np.where(out[:,:,1]>0.2,1,0)\n",
    "binary_road_result = np.where(out[:,:,2]>0.6,1,0)"
   ]
  },
  {
   "cell_type": "markdown",
   "metadata": {},
   "source": [
    "Your program runs at 6.622 FPS\n",
    "\n",
    "Car F score: 0.808 | Car Precision: 0.731 | Car Recall: 0.830 | Road F score: 0.982 | Road Precision: 0.989 | Road Recall: 0.957 | Averaged F score: 0.895"
   ]
  },
  {
   "cell_type": "markdown",
   "metadata": {},
   "source": [
    "## test 2"
   ]
  },
  {
   "cell_type": "markdown",
   "metadata": {},
   "source": [
    "0.1 0.7\n",
    "\n",
    "Your program runs at 6.622 FPS\n",
    "\n",
    "Car F score: 0.811 | Car Precision: 0.679 | Car Recall: 0.853 | Road F score: 0.983 | Road Precision: 0.990 | Road Recall: 0.955 | Averaged F score: 0.897"
   ]
  },
  {
   "cell_type": "markdown",
   "metadata": {},
   "source": [
    "## test 3"
   ]
  },
  {
   "cell_type": "code",
   "execution_count": null,
   "metadata": {},
   "outputs": [],
   "source": [
    "binary_car_result = np.where(out[:,:,1]>0.15,1,0)\n",
    "binary_road_result = np.where(out[:,:,2]>0.7,1,0)"
   ]
  },
  {
   "cell_type": "markdown",
   "metadata": {},
   "source": [
    "Your program runs at 1.428 FPS\n",
    "\n",
    "Car F score: 0.819 | Car Precision: 0.672 | Car Recall: 0.866 | Road F score: 0.987 | Road Precision: 0.991 | Road Recall: 0.971 | Averaged F score: 0.903"
   ]
  }
 ],
 "metadata": {
  "kernelspec": {
   "display_name": "Python 3",
   "language": "python",
   "name": "python3"
  },
  "language_info": {
   "codemirror_mode": {
    "name": "ipython",
    "version": 3
   },
   "file_extension": ".py",
   "mimetype": "text/x-python",
   "name": "python",
   "nbconvert_exporter": "python",
   "pygments_lexer": "ipython3",
   "version": "3.5.2"
  },
  "widgets": {
   "state": {},
   "version": "1.1.2"
  }
 },
 "nbformat": 4,
 "nbformat_minor": 2
}
